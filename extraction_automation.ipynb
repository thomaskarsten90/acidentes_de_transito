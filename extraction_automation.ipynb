{
 "cells": [
  {
   "cell_type": "code",
   "execution_count": 13,
   "metadata": {},
   "outputs": [
    {
     "name": "stdout",
     "output_type": "stream",
     "text": [
      "Arquivo baixado e descompactado com sucesso\n"
     ]
    }
   ],
   "source": [
    "from urllib import request\n",
    "import zipfile\n",
    "\n",
    "url = 'https://drive.usercontent.google.com/u/0/uc?id=1-WO3SfNrwwZ5_l7fRTiwBKRw7mi1-HUq&export=download'\n",
    "\n",
    "file = 'datatran.zip'\n",
    "\n",
    "request.urlretrieve(url, file)\n",
    "\n",
    "zip_file = 'datatran.zip'\n",
    "\n",
    "extract_dir = '/home/thomas-linux/acidentes_de_transito'\n",
    "\n",
    "with zipfile.ZipFile(zip_file, 'r') as zip_ref:\n",
    "    zip_ref.extractall(extract_dir)\n",
    "\n",
    "print('Arquivo baixado e descompactado com sucesso')\n"
   ]
  }
 ],
 "metadata": {
  "kernelspec": {
   "display_name": "venv_acidentes",
   "language": "python",
   "name": "python3"
  },
  "language_info": {
   "codemirror_mode": {
    "name": "ipython",
    "version": 3
   },
   "file_extension": ".py",
   "mimetype": "text/x-python",
   "name": "python",
   "nbconvert_exporter": "python",
   "pygments_lexer": "ipython3",
   "version": "3.10.12"
  }
 },
 "nbformat": 4,
 "nbformat_minor": 2
}
